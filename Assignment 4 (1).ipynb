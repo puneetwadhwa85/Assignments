{
 "cells": [
  {
   "cell_type": "markdown",
   "metadata": {},
   "source": [
    "# Question no. 1.1"
   ]
  },
  {
   "cell_type": "code",
   "execution_count": 75,
   "metadata": {},
   "outputs": [
    {
     "name": "stdout",
     "output_type": "stream",
     "text": [
      "6.0\n",
      "30.983866769659336\n"
     ]
    }
   ],
   "source": [
    "class sides():\n",
    "    def __init__(self,a,b,c):\n",
    "        self.a=a\n",
    "        self.b=b\n",
    "        self.c=c\n",
    "        \n",
    "class calc(sides):\n",
    "    def __init__(self,s,*args):\n",
    "        super(calc,self).__init__(*args)\n",
    "        self.s=s\n",
    "        \n",
    "    def areas(self):\n",
    "        return (self.s*(self.s-self.a)*(self.s-self.b)*(self.s-self.c))**0.5\n",
    "\n",
    "ar=sides(3,4,5)    \n",
    "area=calc(6,3,4,5)\n",
    "area1=calc(8,4,3,2)\n",
    "\n",
    "print(area.areas())\n",
    "print(area1.areas())\n",
    "     "
   ]
  },
  {
   "cell_type": "markdown",
   "metadata": {},
   "source": [
    "# Question no. 1.2"
   ]
  },
  {
   "cell_type": "code",
   "execution_count": 60,
   "metadata": {},
   "outputs": [
    {
     "name": "stdout",
     "output_type": "stream",
     "text": [
      "['mynameispuneet', 'myname', 'name']\n",
      "['mynameispuneet', 'myname', 'name', 'mynameispuneet', 'myname']\n",
      "['mynameispuneet', 'myname', 'name', 'mynameispuneet', 'myname', 'mynameispuneet']\n"
     ]
    }
   ],
   "source": [
    "a=[]\n",
    "def find_long_word(words,n):\n",
    "    for i in words:\n",
    "        if len(i)>n:\n",
    "            a.append(i)\n",
    "    print(a)\n",
    "\n",
    "\n",
    "find_long_word(['mynameispuneet','myname','my','name'],3)\n",
    "find_long_word(['mynameispuneet','myname','my','name'],4)\n",
    "find_long_word(['mynameispuneet','myname','my','name'],10)"
   ]
  },
  {
   "cell_type": "markdown",
   "metadata": {},
   "source": [
    "# Question no. 2.1"
   ]
  },
  {
   "cell_type": "code",
   "execution_count": 46,
   "metadata": {},
   "outputs": [
    {
     "name": "stdout",
     "output_type": "stream",
     "text": [
      "[3, 6, 7]\n"
     ]
    }
   ],
   "source": [
    "a=[]\n",
    "def len_of_wrd(word):\n",
    "    for i in word:\n",
    "        a.append(len(i))\n",
    "    print(a)\n",
    "\n",
    "len_of_wrd(['abc','myname','clickit'])"
   ]
  },
  {
   "cell_type": "markdown",
   "metadata": {},
   "source": [
    "# Question no. 2.2"
   ]
  },
  {
   "cell_type": "code",
   "execution_count": 53,
   "metadata": {},
   "outputs": [
    {
     "name": "stdout",
     "output_type": "stream",
     "text": [
      "True\n",
      "False\n",
      "True\n",
      "False\n",
      "False\n",
      "False\n",
      "True\n"
     ]
    }
   ],
   "source": [
    "def vwl(wrd):\n",
    "    for i in wrd:\n",
    "        if i in('a','e','i','o','u'):\n",
    "            print(True)\n",
    "        else:\n",
    "            print(False)\n",
    "vwl('a')\n",
    "vwl('b')\n",
    "vwl(['a','b','c','d','e'])"
   ]
  }
 ],
 "metadata": {
  "kernelspec": {
   "display_name": "Python 3",
   "language": "python",
   "name": "python3"
  },
  "language_info": {
   "codemirror_mode": {
    "name": "ipython",
    "version": 3
   },
   "file_extension": ".py",
   "mimetype": "text/x-python",
   "name": "python",
   "nbconvert_exporter": "python",
   "pygments_lexer": "ipython3",
   "version": "3.7.3"
  }
 },
 "nbformat": 4,
 "nbformat_minor": 2
}
