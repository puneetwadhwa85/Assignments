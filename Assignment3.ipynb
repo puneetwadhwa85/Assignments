{
 "cells": [
  {
   "cell_type": "code",
   "execution_count": 35,
   "metadata": {},
   "outputs": [
    {
     "name": "stdout",
     "output_type": "stream",
     "text": [
      "sum is equal to 1\n",
      "sum is equal to 3\n",
      "sum is equal to 6\n",
      "sum is equal to 10\n",
      "sum is equal to 15\n",
      "sum is equal to 21\n"
     ]
    }
   ],
   "source": [
    "\n",
    "def myreduce(x):\n",
    "    sum=0\n",
    "    for i in x:\n",
    "        sum=sum+i\n",
    "        print(\"sum is equal to\",sum)\n",
    "myreduce([1,2,3,4,5,6])\n"
   ]
  },
  {
   "cell_type": "code",
   "execution_count": 34,
   "metadata": {},
   "outputs": [
    {
     "name": "stdout",
     "output_type": "stream",
     "text": [
      "True\n",
      "False\n",
      "True\n",
      "False\n",
      "True\n",
      "False\n",
      "True\n",
      "False\n"
     ]
    }
   ],
   "source": [
    "def myfilter(x):\n",
    "    \n",
    "    for i in x:\n",
    "        a=i%2!=0\n",
    "        print(a)\n",
    "myfilter([1,2,3,4,5,6,7,8])\n"
   ]
  },
  {
   "cell_type": "raw",
   "metadata": {},
   "source": [
    "get ['x','xx','xxx','xxxx', 'y','yy','yyy','yyyy','z','zz','zzz','zzzz']"
   ]
  },
  {
   "cell_type": "code",
   "execution_count": 58,
   "metadata": {},
   "outputs": [
    {
     "name": "stdout",
     "output_type": "stream",
     "text": [
      "['x', 'xx', 'xxx', 'xxxx', 'y', 'yy', 'yyy', 'yyyy', 'z', 'zz', 'zzz', 'zzzz']\n"
     ]
    }
   ],
   "source": [
    "a=1\n",
    "b=1\n",
    "c=1\n",
    "m=[]\n",
    "while a<5:\n",
    "    m.append(('x'*a))\n",
    "    a+=1\n",
    "while b<5:\n",
    "    m.append(('y'*b))\n",
    "    b+=1\n",
    "while c<5:\n",
    "    m.append(('z'*c))\n",
    "    c+=1\n",
    "print(m)"
   ]
  },
  {
   "cell_type": "raw",
   "metadata": {},
   "source": [
    "get ['x','y','z','xx','yy','zz','xxx', 'yyy','zzz','xxxx','yyyy','zzzz']"
   ]
  },
  {
   "cell_type": "code",
   "execution_count": 56,
   "metadata": {},
   "outputs": [
    {
     "name": "stdout",
     "output_type": "stream",
     "text": [
      "['x', 'y', 'z', 'xx', 'yy', 'zz', 'xxx', 'yyy', 'zzz', 'xxxx', 'yyyy', 'zzzz']\n"
     ]
    }
   ],
   "source": [
    "a=1\n",
    "m=[]\n",
    "while a<5:\n",
    "    m.append(('x'*a))\n",
    "    m.append(('y'*a))\n",
    "    m.append(('z'*a))\n",
    "    a+=1\n",
    "print(m)"
   ]
  },
  {
   "cell_type": "raw",
   "metadata": {},
   "source": [
    "get [[2],[3],[4],[3],[4],[5],[4],[5],[6]] [[2,3,4,5],[3,4,5,6],[4,5,6,7],[5,6,7,8]]"
   ]
  },
  {
   "cell_type": "code",
   "execution_count": 1,
   "metadata": {},
   "outputs": [
    {
     "name": "stdout",
     "output_type": "stream",
     "text": [
      "[[2], [3], [4], [3], [4], [5], [4], [5], [6]]\n",
      "[[2, 3, 4, 5], [3, 4, 5, 6], [4, 5, 6, 7], [5, 6, 7, 8]]\n"
     ]
    }
   ],
   "source": [
    "a=[]\n",
    "d=[]\n",
    "e=[]\n",
    "f=[]\n",
    "g=[]\n",
    "h=[]\n",
    "\n",
    "for i in range(2,5):\n",
    "    d.append([i])\n",
    "for j in range(3,6):\n",
    "    d.append([j])\n",
    "for k in range(4,7):\n",
    "    d.append([k])\n",
    "print(d)\n",
    "\n",
    "for w in range(2,6):\n",
    "    e.append(w)\n",
    "a.append(e)\n",
    "for x in range(3,7):\n",
    "    f.append(x)\n",
    "a.append(f)\n",
    "for y in range(4,8):\n",
    "    g.append(y)\n",
    "a.append(g)\n",
    "for z in range(5,9):\n",
    "    h.append(z)\n",
    "a.append(h)\n",
    "print(a)\n",
    "   "
   ]
  },
  {
   "cell_type": "raw",
   "metadata": {},
   "source": [
    "get [(1,1),(2,1),(3,1),(1,2),(2,2),(3,2),(1,3),(2,3),(3,3)]"
   ]
  },
  {
   "cell_type": "code",
   "execution_count": 10,
   "metadata": {},
   "outputs": [
    {
     "name": "stdout",
     "output_type": "stream",
     "text": [
      "[(1, 1), (2, 1), (3, 1), (1, 2), (2, 2), (3, 2), (1, 3), (2, 3), (3, 3)]\n"
     ]
    }
   ],
   "source": [
    "a=[]\n",
    "b=1\n",
    "c=1\n",
    "d=1\n",
    "while c<4 and b:\n",
    "    a.append((c,b))\n",
    "    c+=1\n",
    "while b<4 and c:\n",
    "    a.append((b,c-2))\n",
    "    b+=1 \n",
    "while d<4 and c:\n",
    "    a.append((d,c-1))\n",
    "    d+=1\n",
    "print(a)\n"
   ]
  }
 ],
 "metadata": {
  "kernelspec": {
   "display_name": "Python 3",
   "language": "python",
   "name": "python3"
  },
  "language_info": {
   "codemirror_mode": {
    "name": "ipython",
    "version": 3
   },
   "file_extension": ".py",
   "mimetype": "text/x-python",
   "name": "python",
   "nbconvert_exporter": "python",
   "pygments_lexer": "ipython3",
   "version": "3.7.3"
  }
 },
 "nbformat": 4,
 "nbformat_minor": 2
}
